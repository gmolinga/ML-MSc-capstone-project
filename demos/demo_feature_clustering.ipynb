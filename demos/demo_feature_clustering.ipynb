{
 "cells": [
  {
   "cell_type": "code",
   "execution_count": 1,
   "metadata": {},
   "outputs": [
    {
     "name": "stderr",
     "output_type": "stream",
     "text": [
      "c:\\Users\\guill\\miniconda3\\envs\\postdegree\\lib\\site-packages\\umap\\distances.py:1063: NumbaDeprecationWarning: \u001b[1mThe 'nopython' keyword argument was not supplied to the 'numba.jit' decorator. The implicit default value for this argument is currently False, but it will be changed to True in Numba 0.59.0. See https://numba.readthedocs.io/en/stable/reference/deprecation.html#deprecation-of-object-mode-fall-back-behaviour-when-using-jit for details.\u001b[0m\n",
      "  @numba.jit()\n",
      "c:\\Users\\guill\\miniconda3\\envs\\postdegree\\lib\\site-packages\\umap\\distances.py:1071: NumbaDeprecationWarning: \u001b[1mThe 'nopython' keyword argument was not supplied to the 'numba.jit' decorator. The implicit default value for this argument is currently False, but it will be changed to True in Numba 0.59.0. See https://numba.readthedocs.io/en/stable/reference/deprecation.html#deprecation-of-object-mode-fall-back-behaviour-when-using-jit for details.\u001b[0m\n",
      "  @numba.jit()\n",
      "c:\\Users\\guill\\miniconda3\\envs\\postdegree\\lib\\site-packages\\umap\\distances.py:1086: NumbaDeprecationWarning: \u001b[1mThe 'nopython' keyword argument was not supplied to the 'numba.jit' decorator. The implicit default value for this argument is currently False, but it will be changed to True in Numba 0.59.0. See https://numba.readthedocs.io/en/stable/reference/deprecation.html#deprecation-of-object-mode-fall-back-behaviour-when-using-jit for details.\u001b[0m\n",
      "  @numba.jit()\n",
      "c:\\Users\\guill\\miniconda3\\envs\\postdegree\\lib\\site-packages\\umap\\umap_.py:660: NumbaDeprecationWarning: \u001b[1mThe 'nopython' keyword argument was not supplied to the 'numba.jit' decorator. The implicit default value for this argument is currently False, but it will be changed to True in Numba 0.59.0. See https://numba.readthedocs.io/en/stable/reference/deprecation.html#deprecation-of-object-mode-fall-back-behaviour-when-using-jit for details.\u001b[0m\n",
      "  @numba.jit()\n"
     ]
    }
   ],
   "source": [
    "import pandas as pd\n",
    "from feature_clustering.feature_clustering import FeatureCluster"
   ]
  },
  {
   "cell_type": "code",
   "execution_count": 2,
   "metadata": {},
   "outputs": [
    {
     "data": {
      "text/html": [
       "<div>\n",
       "<style scoped>\n",
       "    .dataframe tbody tr th:only-of-type {\n",
       "        vertical-align: middle;\n",
       "    }\n",
       "\n",
       "    .dataframe tbody tr th {\n",
       "        vertical-align: top;\n",
       "    }\n",
       "\n",
       "    .dataframe thead th {\n",
       "        text-align: right;\n",
       "    }\n",
       "</style>\n",
       "<table border=\"1\" class=\"dataframe\">\n",
       "  <thead>\n",
       "    <tr style=\"text-align: right;\">\n",
       "      <th></th>\n",
       "      <th>X.STATE</th>\n",
       "      <th>SEXVAR</th>\n",
       "      <th>GENHLTH</th>\n",
       "      <th>PHYSHLTH</th>\n",
       "      <th>MENTHLTH</th>\n",
       "      <th>POORHLTH</th>\n",
       "      <th>HLTHPLN1</th>\n",
       "      <th>PERSDOC2</th>\n",
       "      <th>MEDCOST</th>\n",
       "      <th>CHECKUP1</th>\n",
       "      <th>...</th>\n",
       "      <th>EMPLOY1.6</th>\n",
       "      <th>EMPLOY1.7</th>\n",
       "      <th>EMPLOY1.8</th>\n",
       "      <th>X.IMPRACE.1</th>\n",
       "      <th>X.IMPRACE.2</th>\n",
       "      <th>X.IMPRACE.3</th>\n",
       "      <th>X.IMPRACE.4</th>\n",
       "      <th>X.IMPRACE.5</th>\n",
       "      <th>X.IMPRACE.6</th>\n",
       "      <th>VO_CORAZON</th>\n",
       "    </tr>\n",
       "  </thead>\n",
       "  <tbody>\n",
       "    <tr>\n",
       "      <th>0</th>\n",
       "      <td>5039877</td>\n",
       "      <td>1</td>\n",
       "      <td>3</td>\n",
       "      <td>3</td>\n",
       "      <td>30</td>\n",
       "      <td>3</td>\n",
       "      <td>0</td>\n",
       "      <td>0</td>\n",
       "      <td>1</td>\n",
       "      <td>1</td>\n",
       "      <td>...</td>\n",
       "      <td>0</td>\n",
       "      <td>0</td>\n",
       "      <td>0</td>\n",
       "      <td>1</td>\n",
       "      <td>0</td>\n",
       "      <td>0</td>\n",
       "      <td>0</td>\n",
       "      <td>0</td>\n",
       "      <td>0</td>\n",
       "      <td>0</td>\n",
       "    </tr>\n",
       "    <tr>\n",
       "      <th>1</th>\n",
       "      <td>5039877</td>\n",
       "      <td>1</td>\n",
       "      <td>2</td>\n",
       "      <td>0</td>\n",
       "      <td>0</td>\n",
       "      <td>0</td>\n",
       "      <td>1</td>\n",
       "      <td>1</td>\n",
       "      <td>1</td>\n",
       "      <td>4</td>\n",
       "      <td>...</td>\n",
       "      <td>0</td>\n",
       "      <td>1</td>\n",
       "      <td>0</td>\n",
       "      <td>0</td>\n",
       "      <td>1</td>\n",
       "      <td>0</td>\n",
       "      <td>0</td>\n",
       "      <td>0</td>\n",
       "      <td>0</td>\n",
       "      <td>0</td>\n",
       "    </tr>\n",
       "    <tr>\n",
       "      <th>2</th>\n",
       "      <td>5039877</td>\n",
       "      <td>1</td>\n",
       "      <td>2</td>\n",
       "      <td>0</td>\n",
       "      <td>0</td>\n",
       "      <td>0</td>\n",
       "      <td>1</td>\n",
       "      <td>1</td>\n",
       "      <td>0</td>\n",
       "      <td>4</td>\n",
       "      <td>...</td>\n",
       "      <td>0</td>\n",
       "      <td>1</td>\n",
       "      <td>0</td>\n",
       "      <td>0</td>\n",
       "      <td>1</td>\n",
       "      <td>0</td>\n",
       "      <td>0</td>\n",
       "      <td>0</td>\n",
       "      <td>0</td>\n",
       "      <td>0</td>\n",
       "    </tr>\n",
       "    <tr>\n",
       "      <th>3</th>\n",
       "      <td>5039877</td>\n",
       "      <td>1</td>\n",
       "      <td>4</td>\n",
       "      <td>0</td>\n",
       "      <td>0</td>\n",
       "      <td>0</td>\n",
       "      <td>1</td>\n",
       "      <td>0</td>\n",
       "      <td>0</td>\n",
       "      <td>3</td>\n",
       "      <td>...</td>\n",
       "      <td>0</td>\n",
       "      <td>0</td>\n",
       "      <td>0</td>\n",
       "      <td>1</td>\n",
       "      <td>0</td>\n",
       "      <td>0</td>\n",
       "      <td>0</td>\n",
       "      <td>0</td>\n",
       "      <td>0</td>\n",
       "      <td>0</td>\n",
       "    </tr>\n",
       "    <tr>\n",
       "      <th>4</th>\n",
       "      <td>5039877</td>\n",
       "      <td>1</td>\n",
       "      <td>3</td>\n",
       "      <td>0</td>\n",
       "      <td>0</td>\n",
       "      <td>0</td>\n",
       "      <td>1</td>\n",
       "      <td>1</td>\n",
       "      <td>0</td>\n",
       "      <td>4</td>\n",
       "      <td>...</td>\n",
       "      <td>0</td>\n",
       "      <td>1</td>\n",
       "      <td>0</td>\n",
       "      <td>1</td>\n",
       "      <td>0</td>\n",
       "      <td>0</td>\n",
       "      <td>0</td>\n",
       "      <td>0</td>\n",
       "      <td>0</td>\n",
       "      <td>0</td>\n",
       "    </tr>\n",
       "  </tbody>\n",
       "</table>\n",
       "<p>5 rows × 77 columns</p>\n",
       "</div>"
      ],
      "text/plain": [
       "   X.STATE  SEXVAR  GENHLTH  PHYSHLTH  MENTHLTH  POORHLTH  HLTHPLN1  PERSDOC2  \\\n",
       "0  5039877       1        3         3        30         3         0         0   \n",
       "1  5039877       1        2         0         0         0         1         1   \n",
       "2  5039877       1        2         0         0         0         1         1   \n",
       "3  5039877       1        4         0         0         0         1         0   \n",
       "4  5039877       1        3         0         0         0         1         1   \n",
       "\n",
       "   MEDCOST  CHECKUP1  ...  EMPLOY1.6  EMPLOY1.7  EMPLOY1.8  X.IMPRACE.1  \\\n",
       "0        1         1  ...          0          0          0            1   \n",
       "1        1         4  ...          0          1          0            0   \n",
       "2        0         4  ...          0          1          0            0   \n",
       "3        0         3  ...          0          0          0            1   \n",
       "4        0         4  ...          0          1          0            1   \n",
       "\n",
       "   X.IMPRACE.2  X.IMPRACE.3  X.IMPRACE.4  X.IMPRACE.5  X.IMPRACE.6  VO_CORAZON  \n",
       "0            0            0            0            0            0           0  \n",
       "1            1            0            0            0            0           0  \n",
       "2            1            0            0            0            0           0  \n",
       "3            0            0            0            0            0           0  \n",
       "4            0            0            0            0            0           0  \n",
       "\n",
       "[5 rows x 77 columns]"
      ]
     },
     "execution_count": 2,
     "metadata": {},
     "output_type": "execute_result"
    }
   ],
   "source": [
    "data = pd.read_csv(\"../data/datos_income_TFM.csv\")\n",
    "data.head()"
   ]
  },
  {
   "cell_type": "code",
   "execution_count": 3,
   "metadata": {},
   "outputs": [],
   "source": [
    "target = \"DIABETE4\"\n",
    "\n",
    "feature_cluster = FeatureCluster(k=8)\n",
    "feature_cluster.fit(data.drop(columns=target), data[target])"
   ]
  },
  {
   "cell_type": "code",
   "execution_count": 4,
   "metadata": {},
   "outputs": [
    {
     "data": {
      "image/png": "[encoded data removed]",
      "text/plain": [
       "<Figure size 640x480 with 1 Axes>"
      ]
     },
     "metadata": {},
     "output_type": "display_data"
    }
   ],
   "source": [
    "feature_cluster.plot()"
   ]
  },
  {
   "cell_type": "code",
   "execution_count": 5,
   "metadata": {},
   "outputs": [
    {
     "data": {
      "image/png": "[encoded data removed]",
      "text/plain": [
       "<Figure size 640x480 with 1 Axes>"
      ]
     },
     "metadata": {},
     "output_type": "display_data"
    }
   ],
   "source": [
    "feature_cluster.plot(plot_type=\"tsne\")"
   ]
  },
  {
   "cell_type": "code",
   "execution_count": 6,
   "metadata": {},
   "outputs": [
    {
     "data": {
      "image/png": "[encoded data removed]",
      "text/plain": [
       "<Figure size 640x480 with 1 Axes>"
      ]
     },
     "metadata": {},
     "output_type": "display_data"
    }
   ],
   "source": [
    "feature_cluster.plot(plot_type=\"umap\")"
   ]
  },
  {
   "cell_type": "code",
   "execution_count": 7,
   "metadata": {},
   "outputs": [
    {
     "data": {
      "text/plain": [
       "{'Silhouette Coefficient': 0.023866815066838274,\n",
       " 'Calinski-Harabasz Index': 2.1818489989981655,\n",
       " 'Davies-Bouldin Index': 3.2511759986156896,\n",
       " 'Dunn Index': 0.6350860721663223}"
      ]
     },
     "execution_count": 7,
     "metadata": {},
     "output_type": "execute_result"
    }
   ],
   "source": [
    "feature_cluster.score()"
   ]
  },
  {
   "cell_type": "code",
   "execution_count": 8,
   "metadata": {},
   "outputs": [
    {
     "data": {
      "text/plain": [
       "{0: ['GENHLTH', 'CHILDREN', 'MAXDRNKS', 'ECIGNOW', 'MARITAL.6', 'EMPLOY1.1'],\n",
       " 1: ['X.STATE',\n",
       "  'MENTHLTH',\n",
       "  'MEDCOST',\n",
       "  'ADDEPEV3',\n",
       "  'DECIDE',\n",
       "  'SMOKDAY2',\n",
       "  'MARITAL.4',\n",
       "  'RENTHOM1.2',\n",
       "  'EMPLOY1.8',\n",
       "  'X.IMPRACE.2',\n",
       "  'X.IMPRACE.4',\n",
       "  'X.IMPRACE.6'],\n",
       " 2: ['PHYSHLTH',\n",
       "  'POORHLTH',\n",
       "  'CVDSTRK3',\n",
       "  'ASTHMA3',\n",
       "  'ASTHNOW',\n",
       "  'CHCCOPD2',\n",
       "  'CHCKDNY2',\n",
       "  'BLIND',\n",
       "  'DIFFWALK',\n",
       "  'DIFFDRES',\n",
       "  'DIFFALON',\n",
       "  'FALL12MN',\n",
       "  'CIMEMLOS',\n",
       "  'EMPLOY1.3',\n",
       "  'EMPLOY1.5'],\n",
       " 3: ['SEXVAR',\n",
       "  'HLTHPLN1',\n",
       "  'PERSDOC2',\n",
       "  'CHECKUP1',\n",
       "  'SLEPTIM1',\n",
       "  'CHCSCNCR',\n",
       "  'CHCOCNCR',\n",
       "  'HAVARTH4',\n",
       "  'DIABAGE3',\n",
       "  'RMVTETH4',\n",
       "  'DEAF',\n",
       "  'FLUSHOT7',\n",
       "  'X.AGEG5YR',\n",
       "  'X.AGE80',\n",
       "  'MARITAL.2',\n",
       "  'MARITAL.3',\n",
       "  'RENTHOM1.1',\n",
       "  'EMPLOY1.7',\n",
       "  'X.IMPRACE.1',\n",
       "  'VO_CORAZON'],\n",
       " 4: ['SMOKE100', 'LCSFIRST', 'LCSLAST', 'LCSNUMCG'],\n",
       " 5: ['WEIGHT2',\n",
       "  'HEIGHT3',\n",
       "  'USENOW3',\n",
       "  'ALCDAY5',\n",
       "  'DRNK3GE5',\n",
       "  'EMPLOY1.2',\n",
       "  'EMPLOY1.4'],\n",
       " 6: ['EXERANY2', 'LASTDEN4', 'EDUCA', 'SEATBELT', 'X.INCOMG', 'MARITAL.1'],\n",
       " 7: ['HIVRISK5',\n",
       "  'MARITAL.5',\n",
       "  'RENTHOM1.3',\n",
       "  'EMPLOY1.6',\n",
       "  'X.IMPRACE.3',\n",
       "  'X.IMPRACE.5']}"
      ]
     },
     "execution_count": 8,
     "metadata": {},
     "output_type": "execute_result"
    }
   ],
   "source": [
    "feature_cluster.get_feature_clusters()"
   ]
  },
  {
   "cell_type": "code",
   "execution_count": 9,
   "metadata": {},
   "outputs": [
    {
     "name": "stdout",
     "output_type": "stream",
     "text": [
      "Computing cluster 0\n",
      "Computing cluster 1\n",
      "Computing cluster 2\n",
      "Computing cluster 3\n",
      "Computing cluster 4\n",
      "Computing cluster 5\n",
      "Computing cluster 6\n",
      "Computing cluster 7\n"
     ]
    }
   ],
   "source": [
    "best_features_mi = feature_cluster.select_best_features(strategy=\"mutual-information\")"
   ]
  },
  {
   "cell_type": "code",
   "execution_count": 10,
   "metadata": {},
   "outputs": [
    {
     "data": {
      "text/plain": [
       "{0: ['GENHLTH', 'EMPLOY1.1', 'MAXDRNKS'],\n",
       " 1: ['RENTHOM1.2',\n",
       "  'EMPLOY1.8',\n",
       "  'ADDEPEV3',\n",
       "  'DECIDE',\n",
       "  'X.IMPRACE.2',\n",
       "  'MEDCOST'],\n",
       " 2: ['DIFFWALK', 'DIFFALON', 'CHCCOPD2', 'PHYSHLTH', 'ASTHNOW', 'ASTHMA3'],\n",
       " 3: ['DIABAGE3', 'HAVARTH4', 'EMPLOY1.7', 'FLUSHOT7', 'SEXVAR', 'X.IMPRACE.1'],\n",
       " 4: ['SMOKE100', 'LCSLAST'],\n",
       " 5: ['EMPLOY1.2', 'ALCDAY5', 'WEIGHT2'],\n",
       " 6: ['EXERANY2', 'MARITAL.1', 'LASTDEN4'],\n",
       " 7: ['MARITAL.5', 'X.IMPRACE.5', 'EMPLOY1.6']}"
      ]
     },
     "execution_count": 10,
     "metadata": {},
     "output_type": "execute_result"
    }
   ],
   "source": [
    "best_features_mi"
   ]
  },
  {
   "cell_type": "code",
   "execution_count": 11,
   "metadata": {},
   "outputs": [
    {
     "name": "stdout",
     "output_type": "stream",
     "text": [
      "['GENHLTH']\n",
      "best_auc 0.6660315861912548 auc_actual 0\n",
      "['EMPLOY1.8']\n",
      "best_auc 0.6670703032600866 auc_actual 0.6660315861912548\n",
      "['CHCKDNY2']\n",
      "best_auc 0.6704138249639982 auc_actual 0.6670703032600866\n",
      "['DIABAGE3']\n",
      "best_auc 0.9405450041288191 auc_actual 0.6704138249639982\n",
      "['LCSLAST']\n",
      "best_auc 0.9405450041288191 auc_actual 0.9405450041288191\n",
      "['EMPLOY1.4']\n",
      "best_auc 0.9405450041288191 auc_actual 0.9405450041288191\n",
      "['MARITAL.1']\n",
      "best_auc 0.9405450041288191 auc_actual 0.9405450041288191\n",
      "['HIVRISK5']\n",
      "best_auc 0.9405450041288191 auc_actual 0.9405450041288191\n",
      "['ECIGNOW']\n",
      "best_auc 0.9405763405756431 auc_actual 0.9405450041288191\n",
      "['MEDCOST']\n",
      "best_auc 0.9406312475585956 auc_actual 0.9405763405756431\n",
      "['EMPLOY1.5']\n",
      "best_auc 0.9405450041288191 auc_actual 0.9406312475585956\n",
      "['X.IMPRACE.1']\n",
      "best_auc 0.9405450041288191 auc_actual 0.9405450041288191\n",
      "['LCSLAST']\n",
      "best_auc 0.9406157157372054 auc_actual 0.9405450041288191\n",
      "['EMPLOY1.4']\n",
      "best_auc 0.9406370284697004 auc_actual 0.9406157157372054\n",
      "['EDUCA']\n",
      "best_auc 0.9406425365767623 auc_actual 0.9406370284697004\n",
      "['RENTHOM1.3']\n",
      "best_auc 0.9405908798972382 auc_actual 0.9406425365767623\n"
     ]
    }
   ],
   "source": [
    "best_features_ffs = feature_cluster.select_best_features(strategy=\"forward-feature-selection\")"
   ]
  },
  {
   "cell_type": "code",
   "execution_count": 12,
   "metadata": {},
   "outputs": [
    {
     "data": {
      "text/plain": [
       "{0: ['GENHLTH', 'ECIGNOW'],\n",
       " 1: ['MEDCOST', 'EMPLOY1.8'],\n",
       " 2: ['CHCKDNY2', 'EMPLOY1.5'],\n",
       " 3: ['DIABAGE3', 'X.IMPRACE.1'],\n",
       " 4: ['LCSLAST'],\n",
       " 5: ['EMPLOY1.4'],\n",
       " 6: ['EDUCA', 'MARITAL.1'],\n",
       " 7: ['HIVRISK5', 'RENTHOM1.3']}"
      ]
     },
     "execution_count": 12,
     "metadata": {},
     "output_type": "execute_result"
    }
   ],
   "source": [
    "best_features_ffs"
   ]
  },
  {
   "cell_type": "code",
   "execution_count": null,
   "metadata": {},
   "outputs": [],
   "source": []
  }
 ],
 "metadata": {
  "kernelspec": {
   "display_name": "postdegree",
   "language": "python",
   "name": "python3"
  },
  "language_info": {
   "codemirror_mode": {
    "name": "ipython",
    "version": 3
   },
   "file_extension": ".py",
   "mimetype": "text/x-python",
   "name": "python",
   "nbconvert_exporter": "python",
   "pygments_lexer": "ipython3",
   "version": "3.10.11"
  },
  "orig_nbformat": 4
 },
 "nbformat": 4,
 "nbformat_minor": 2
}
